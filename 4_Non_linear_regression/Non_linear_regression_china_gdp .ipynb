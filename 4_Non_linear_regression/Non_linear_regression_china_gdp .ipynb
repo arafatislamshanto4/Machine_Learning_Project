{
 "cells": [
  {
   "cell_type": "markdown",
   "metadata": {},
   "source": [
    "<h1><center>Non Linear Regression</center></h1>"
   ]
  },
  {
   "cell_type": "markdown",
   "metadata": {},
   "source": [
    "<br><h1>Table of contents</h1>\n",
    "\n",
    "<div class=\"alert alert-block alert-info\" style=\"margin-top: 20px\">\n",
    "    <ol>\n",
    "        <li><a href=\"#import_data\">Import the Data</a></li>\n",
    "        <li><a href=\"#nonlinear_regression\">Non-linear Regression</a></li>\n",
    "        <li><a href=\"#evaluation\">Evaluation</a></li>\n",
    "    </ol>\n",
    "</div>\n",
    "<br>\n",
    "<hr>"
   ]
  },
  {
   "cell_type": "code",
   "execution_count": 2,
   "metadata": {},
   "outputs": [],
   "source": [
    "#import packages\n",
    "import numpy as np\n",
    "import pandas as pd\n",
    "import matplotlib as mpl\n",
    "import matplotlib.pyplot as plt\n",
    "mpl.style.use('ggplot')\n",
    "%matplotlib inline"
   ]
  },
  {
   "cell_type": "markdown",
   "metadata": {},
   "source": [
    "<h2 id='import_data'>Import the Data</h2>"
   ]
  },
  {
   "cell_type": "code",
   "execution_count": 3,
   "metadata": {},
   "outputs": [
    {
     "data": {
      "text/html": [
       "<div>\n",
       "<style scoped>\n",
       "    .dataframe tbody tr th:only-of-type {\n",
       "        vertical-align: middle;\n",
       "    }\n",
       "\n",
       "    .dataframe tbody tr th {\n",
       "        vertical-align: top;\n",
       "    }\n",
       "\n",
       "    .dataframe thead th {\n",
       "        text-align: right;\n",
       "    }\n",
       "</style>\n",
       "<table border=\"1\" class=\"dataframe\">\n",
       "  <thead>\n",
       "    <tr style=\"text-align: right;\">\n",
       "      <th></th>\n",
       "      <th>Year</th>\n",
       "      <th>Value</th>\n",
       "    </tr>\n",
       "  </thead>\n",
       "  <tbody>\n",
       "    <tr>\n",
       "      <td>0</td>\n",
       "      <td>1960</td>\n",
       "      <td>5.918412e+10</td>\n",
       "    </tr>\n",
       "    <tr>\n",
       "      <td>1</td>\n",
       "      <td>1961</td>\n",
       "      <td>4.955705e+10</td>\n",
       "    </tr>\n",
       "    <tr>\n",
       "      <td>2</td>\n",
       "      <td>1962</td>\n",
       "      <td>4.668518e+10</td>\n",
       "    </tr>\n",
       "    <tr>\n",
       "      <td>3</td>\n",
       "      <td>1963</td>\n",
       "      <td>5.009730e+10</td>\n",
       "    </tr>\n",
       "    <tr>\n",
       "      <td>4</td>\n",
       "      <td>1964</td>\n",
       "      <td>5.906225e+10</td>\n",
       "    </tr>\n",
       "  </tbody>\n",
       "</table>\n",
       "</div>"
      ],
      "text/plain": [
       "   Year         Value\n",
       "0  1960  5.918412e+10\n",
       "1  1961  4.955705e+10\n",
       "2  1962  4.668518e+10\n",
       "3  1963  5.009730e+10\n",
       "4  1964  5.906225e+10"
      ]
     },
     "execution_count": 3,
     "metadata": {},
     "output_type": "execute_result"
    }
   ],
   "source": [
    "#import the data\n",
    "\n",
    "df = pd.read_csv(\"china_gdp.csv\")\n",
    "df.head()"
   ]
  },
  {
   "cell_type": "code",
   "execution_count": 25,
   "metadata": {},
   "outputs": [
    {
     "data": {
      "image/png": "[encoded data removed]",
      "text/plain": [
       "<Figure size 432x288 with 1 Axes>"
      ]
     },
     "metadata": {
      "needs_background": "light"
     },
     "output_type": "display_data"
    }
   ],
   "source": [
    "x_data, y_data = (df[\"Year\"].values, df[\"Value\"].values)\n",
    "plt.plot(x_data, y_data, 'ro')\n",
    "plt.ylabel('GDP')\n",
    "plt.xlabel('Year')\n",
    "plt.show()"
   ]
  },
  {
   "cell_type": "markdown",
   "metadata": {},
   "source": [
    "<h3>Choose the Model</h3>"
   ]
  },
  {
   "cell_type": "code",
   "execution_count": 26,
   "metadata": {},
   "outputs": [
    {
     "data": {
      "image/png": "[encoded data removed]",
      "text/plain": [
       "<Figure size 432x288 with 1 Axes>"
      ]
     },
     "metadata": {
      "needs_background": "light"
     },
     "output_type": "display_data"
    }
   ],
   "source": [
    "X = np.arange(-5.0, 5.0, 0.1)\n",
    "\n",
    "##You can adjust the slope and intercept to verify the changes in the graph\n",
    "\n",
    "Y= np.exp(X)\n",
    "y_noise = 2 * np.random.normal(size=X.size)\n",
    "ydata = Y + y_noise\n",
    "\n",
    "plt.plot(X,ydata,'bo') \n",
    "plt.plot(X,Y,'-r')\n",
    "plt.ylabel('Dependent Variable')\n",
    "plt.xlabel('Indepdendent Variable')\n",
    "plt.show()"
   ]
  },
  {
   "cell_type": "markdown",
   "metadata": {},
   "source": [
    "<br><h2 id=\"nonlinear_regression\">Non-linear Regression (Sigmoid function)</h2><br><br>"
   ]
  },
  {
   "cell_type": "code",
   "execution_count": 27,
   "metadata": {},
   "outputs": [],
   "source": [
    "#Implementation\n",
    "\n",
    "def sigmoid(x, Beta_1, Beta_2):\n",
    "     y = 1 / (1 + np.exp(-Beta_1*(x-Beta_2)))\n",
    "     return y\n"
   ]
  },
  {
   "cell_type": "code",
   "execution_count": 29,
   "metadata": {},
   "outputs": [
    {
     "data": {
      "image/png": "[encoded data removed]",
      "text/plain": [
       "<Figure size 576x360 with 1 Axes>"
      ]
     },
     "metadata": {
      "needs_background": "light"
     },
     "output_type": "display_data"
    }
   ],
   "source": [
    "# Lets normalize our data\n",
    "xdata =x_data/max(x_data)\n",
    "ydata =y_data/max(y_data)\n",
    "\n",
    "from scipy.optimize import curve_fit\n",
    "popt, pcov = curve_fit(sigmoid, xdata, ydata)\n",
    "\n",
    "x = np.linspace(1960, 2015, 55)\n",
    "x = x/max(x)\n",
    "plt.figure(figsize=(8,5))\n",
    "y = sigmoid(x, *popt)\n",
    "plt.plot(xdata, ydata, 'bo', label='data')\n",
    "plt.plot(x,y, linewidth=3.0, label='fit')\n",
    "plt.legend(loc='best')\n",
    "plt.ylabel('GDP')\n",
    "plt.xlabel('Year')\n",
    "plt.show()"
   ]
  },
  {
   "cell_type": "markdown",
   "metadata": {},
   "source": [
    "<br><h2 id='evaluation'>Evaluation</h2><br><br>"
   ]
  },
  {
   "cell_type": "code",
   "execution_count": 31,
   "metadata": {},
   "outputs": [
    {
     "name": "stdout",
     "output_type": "stream",
     "text": [
      "Mean absolute error: 0.04\n",
      "Residual sum of squares (MSE): 0.00\n",
      "R2-score: 0.97\n"
     ]
    }
   ],
   "source": [
    "\n",
    "# split data into train/test\n",
    "msk = np.random.rand(len(df)) < 0.8\n",
    "train_x = xdata[msk]\n",
    "test_x = xdata[~msk]\n",
    "train_y = ydata[msk]\n",
    "test_y = ydata[~msk]\n",
    "\n",
    "# build the model using train set\n",
    "popt, pcov = curve_fit(sigmoid, train_x, train_y)\n",
    "\n",
    "# predict using test set\n",
    "y_hat = sigmoid(test_x, *popt)\n",
    "\n",
    "# evaluation\n",
    "print(\"Mean absolute error: %.2f\" % np.mean(np.absolute(y_hat - test_y)))\n",
    "print(\"Residual sum of squares (MSE): %.2f\" % np.mean((y_hat - test_y) ** 2))\n",
    "from sklearn.metrics import r2_score\n",
    "print(\"R2-score: %.2f\" % r2_score(y_hat , test_y) )"
   ]
  },
  {
   "cell_type": "markdown",
   "metadata": {},
   "source": [
    "\n",
    "<br>\n",
    "\n",
    "End of notebook...\n",
    "<hr>"
   ]
  }
 ],
 "metadata": {
  "kernelspec": {
   "display_name": "Python 3",
   "language": "python",
   "name": "python3"
  },
  "language_info": {
   "codemirror_mode": {
    "name": "ipython",
    "version": 3
   },
   "file_extension": ".py",
   "mimetype": "text/x-python",
   "name": "python",
   "nbconvert_exporter": "python",
   "pygments_lexer": "ipython3",
   "version": "3.7.1"
  }
 },
 "nbformat": 4,
 "nbformat_minor": 2
}
